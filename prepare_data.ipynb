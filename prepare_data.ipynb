{
 "cells": [
  {
   "cell_type": "code",
   "execution_count": 19,
   "metadata": {},
   "outputs": [],
   "source": [
    "import os\n",
    "import pandas as pd\n",
    "\n",
    "DATA_DIR = '/home/jiazhi/Dataset/common-voice_zh-TW_43h_2019-06-12'"
   ]
  },
  {
   "cell_type": "code",
   "execution_count": 67,
   "metadata": {},
   "outputs": [],
   "source": [
    "def kaldi_gender(gender):\n",
    "    ''' Alter CommonVoice gender into kaldi format. '''\n",
    "    if gender == 'male':\n",
    "        return 'm'\n",
    "    elif gender == 'female':\n",
    "        return 'f'\n",
    "    else:\n",
    "        return 'm'"
   ]
  },
  {
   "cell_type": "code",
   "execution_count": 12,
   "metadata": {},
   "outputs": [],
   "source": [
    "# Create directory structures\n",
    "os.mkdir('data')\n",
    "os.mkdir('data/train')\n",
    "os.mkdir('data/test')\n",
    "os.mkdir('data/local')"
   ]
  },
  {
   "cell_type": "code",
   "execution_count": 39,
   "metadata": {},
   "outputs": [],
   "source": [
    "# Read tsv files for dataset information\n",
    "train_tsv = os.path.join(DATA_DIR, 'train.tsv')\n",
    "test_tsv = os.path.join(DATA_DIR, 'test.tsv')\n",
    "\n",
    "train_df = pd.read_csv(train_tsv, sep='\\t')\n",
    "test_df = pd.read_csv(test_tsv, sep='\\t')\n",
    "full_df = pd.concat([train_df, test_df])"
   ]
  },
  {
   "cell_type": "code",
   "execution_count": 89,
   "metadata": {},
   "outputs": [
    {
     "name": "stdout",
     "output_type": "stream",
     "text": [
      "train_df.shape: (1698, 8)\n",
      "test_df.shape:  (1540, 8)\n"
     ]
    },
    {
     "data": {
      "text/html": [
       "<div>\n",
       "<style scoped>\n",
       "    .dataframe tbody tr th:only-of-type {\n",
       "        vertical-align: middle;\n",
       "    }\n",
       "\n",
       "    .dataframe tbody tr th {\n",
       "        vertical-align: top;\n",
       "    }\n",
       "\n",
       "    .dataframe thead th {\n",
       "        text-align: right;\n",
       "    }\n",
       "</style>\n",
       "<table border=\"1\" class=\"dataframe\">\n",
       "  <thead>\n",
       "    <tr style=\"text-align: right;\">\n",
       "      <th></th>\n",
       "      <th>client_id</th>\n",
       "      <th>path</th>\n",
       "      <th>sentence</th>\n",
       "      <th>up_votes</th>\n",
       "      <th>down_votes</th>\n",
       "      <th>age</th>\n",
       "      <th>gender</th>\n",
       "      <th>accent</th>\n",
       "    </tr>\n",
       "  </thead>\n",
       "  <tbody>\n",
       "    <tr>\n",
       "      <th>0</th>\n",
       "      <td>729aa31a7cb19fbf96fb390f0e7e74dd408a2579ce811a...</td>\n",
       "      <td>common_voice_zh-TW_17377831.mp3</td>\n",
       "      <td>我們特別回鄉下</td>\n",
       "      <td>2</td>\n",
       "      <td>0</td>\n",
       "      <td>thirties</td>\n",
       "      <td>male</td>\n",
       "      <td>NaN</td>\n",
       "    </tr>\n",
       "    <tr>\n",
       "      <th>1</th>\n",
       "      <td>729aa31a7cb19fbf96fb390f0e7e74dd408a2579ce811a...</td>\n",
       "      <td>common_voice_zh-TW_17377841.mp3</td>\n",
       "      <td>是歷史上的第二次</td>\n",
       "      <td>2</td>\n",
       "      <td>0</td>\n",
       "      <td>thirties</td>\n",
       "      <td>male</td>\n",
       "      <td>NaN</td>\n",
       "    </tr>\n",
       "    <tr>\n",
       "      <th>2</th>\n",
       "      <td>729aa31a7cb19fbf96fb390f0e7e74dd408a2579ce811a...</td>\n",
       "      <td>common_voice_zh-TW_17377844.mp3</td>\n",
       "      <td>簡單來說</td>\n",
       "      <td>2</td>\n",
       "      <td>1</td>\n",
       "      <td>thirties</td>\n",
       "      <td>male</td>\n",
       "      <td>NaN</td>\n",
       "    </tr>\n",
       "    <tr>\n",
       "      <th>3</th>\n",
       "      <td>729aa31a7cb19fbf96fb390f0e7e74dd408a2579ce811a...</td>\n",
       "      <td>common_voice_zh-TW_17377846.mp3</td>\n",
       "      <td>在田裡也需幫忙</td>\n",
       "      <td>2</td>\n",
       "      <td>0</td>\n",
       "      <td>thirties</td>\n",
       "      <td>male</td>\n",
       "      <td>NaN</td>\n",
       "    </tr>\n",
       "    <tr>\n",
       "      <th>4</th>\n",
       "      <td>729aa31a7cb19fbf96fb390f0e7e74dd408a2579ce811a...</td>\n",
       "      <td>common_voice_zh-TW_17377848.mp3</td>\n",
       "      <td>婚後一年生了個女嬰</td>\n",
       "      <td>2</td>\n",
       "      <td>1</td>\n",
       "      <td>thirties</td>\n",
       "      <td>male</td>\n",
       "      <td>NaN</td>\n",
       "    </tr>\n",
       "  </tbody>\n",
       "</table>\n",
       "</div>"
      ],
      "text/plain": [
       "                                           client_id  \\\n",
       "0  729aa31a7cb19fbf96fb390f0e7e74dd408a2579ce811a...   \n",
       "1  729aa31a7cb19fbf96fb390f0e7e74dd408a2579ce811a...   \n",
       "2  729aa31a7cb19fbf96fb390f0e7e74dd408a2579ce811a...   \n",
       "3  729aa31a7cb19fbf96fb390f0e7e74dd408a2579ce811a...   \n",
       "4  729aa31a7cb19fbf96fb390f0e7e74dd408a2579ce811a...   \n",
       "\n",
       "                              path   sentence  up_votes  down_votes       age  \\\n",
       "0  common_voice_zh-TW_17377831.mp3    我們特別回鄉下         2           0  thirties   \n",
       "1  common_voice_zh-TW_17377841.mp3   是歷史上的第二次         2           0  thirties   \n",
       "2  common_voice_zh-TW_17377844.mp3       簡單來說         2           1  thirties   \n",
       "3  common_voice_zh-TW_17377846.mp3    在田裡也需幫忙         2           0  thirties   \n",
       "4  common_voice_zh-TW_17377848.mp3  婚後一年生了個女嬰         2           1  thirties   \n",
       "\n",
       "  gender accent  \n",
       "0   male    NaN  \n",
       "1   male    NaN  \n",
       "2   male    NaN  \n",
       "3   male    NaN  \n",
       "4   male    NaN  "
      ]
     },
     "execution_count": 89,
     "metadata": {},
     "output_type": "execute_result"
    }
   ],
   "source": [
    "print(f'train_df.shape: {train_df.shape}')\n",
    "print(f'test_df.shape:  {test_df.shape}')\n",
    "train_df.head()"
   ]
  },
  {
   "cell_type": "code",
   "execution_count": 74,
   "metadata": {},
   "outputs": [],
   "source": [
    "# Retrieve speaker information for kaldi usage\n",
    "spk_df = full_df[['client_id', 'gender']].drop_duplicates()\n",
    "spk_df.gender = spk_df.gender.apply(kaldi_gender)\n",
    "spk_df['spk_id'] = range(1, 1 + len(spk_df))"
   ]
  },
  {
   "cell_type": "code",
   "execution_count": 92,
   "metadata": {},
   "outputs": [
    {
     "name": "stdout",
     "output_type": "stream",
     "text": [
      "spk_df.shape: (564, 3)\n",
      "spk_df.gender.unique(): ['m' 'f']\n"
     ]
    },
    {
     "data": {
      "text/html": [
       "<div>\n",
       "<style scoped>\n",
       "    .dataframe tbody tr th:only-of-type {\n",
       "        vertical-align: middle;\n",
       "    }\n",
       "\n",
       "    .dataframe tbody tr th {\n",
       "        vertical-align: top;\n",
       "    }\n",
       "\n",
       "    .dataframe thead th {\n",
       "        text-align: right;\n",
       "    }\n",
       "</style>\n",
       "<table border=\"1\" class=\"dataframe\">\n",
       "  <thead>\n",
       "    <tr style=\"text-align: right;\">\n",
       "      <th></th>\n",
       "      <th>client_id</th>\n",
       "      <th>gender</th>\n",
       "      <th>spk_id</th>\n",
       "    </tr>\n",
       "  </thead>\n",
       "  <tbody>\n",
       "    <tr>\n",
       "      <th>0</th>\n",
       "      <td>729aa31a7cb19fbf96fb390f0e7e74dd408a2579ce811a...</td>\n",
       "      <td>m</td>\n",
       "      <td>1</td>\n",
       "    </tr>\n",
       "    <tr>\n",
       "      <th>11</th>\n",
       "      <td>8119b4a67d239d11f84bb45ef896a69a94f37563e98213...</td>\n",
       "      <td>m</td>\n",
       "      <td>2</td>\n",
       "    </tr>\n",
       "    <tr>\n",
       "      <th>19</th>\n",
       "      <td>811f82987d1a0e11e8d982c27e954766d4cac9fccaeca4...</td>\n",
       "      <td>m</td>\n",
       "      <td>3</td>\n",
       "    </tr>\n",
       "    <tr>\n",
       "      <th>26</th>\n",
       "      <td>9bf2140f31463cde58df1859c772e2668a6a81f3c36a88...</td>\n",
       "      <td>f</td>\n",
       "      <td>4</td>\n",
       "    </tr>\n",
       "    <tr>\n",
       "      <th>38</th>\n",
       "      <td>14b6e005a4f8fb3a7c89226454caea2dba02acac01604d...</td>\n",
       "      <td>f</td>\n",
       "      <td>5</td>\n",
       "    </tr>\n",
       "  </tbody>\n",
       "</table>\n",
       "</div>"
      ],
      "text/plain": [
       "                                            client_id gender  spk_id\n",
       "0   729aa31a7cb19fbf96fb390f0e7e74dd408a2579ce811a...      m       1\n",
       "11  8119b4a67d239d11f84bb45ef896a69a94f37563e98213...      m       2\n",
       "19  811f82987d1a0e11e8d982c27e954766d4cac9fccaeca4...      m       3\n",
       "26  9bf2140f31463cde58df1859c772e2668a6a81f3c36a88...      f       4\n",
       "38  14b6e005a4f8fb3a7c89226454caea2dba02acac01604d...      f       5"
      ]
     },
     "execution_count": 92,
     "metadata": {},
     "output_type": "execute_result"
    }
   ],
   "source": [
    "print(f'spk_df.shape: {spk_df.shape}')\n",
    "print(f'spk_df.gender.unique(): {spk_df.gender.unique()}')\n",
    "spk_df.head()"
   ]
  }
 ],
 "metadata": {
  "kernelspec": {
   "display_name": "Python 3",
   "language": "python",
   "name": "python3"
  },
  "language_info": {
   "codemirror_mode": {
    "name": "ipython",
    "version": 3
   },
   "file_extension": ".py",
   "mimetype": "text/x-python",
   "name": "python",
   "nbconvert_exporter": "python",
   "pygments_lexer": "ipython3",
   "version": "3.6.7"
  }
 },
 "nbformat": 4,
 "nbformat_minor": 2
}
