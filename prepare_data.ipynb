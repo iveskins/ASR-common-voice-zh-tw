{
 "cells": [
  {
   "cell_type": "code",
   "execution_count": 1,
   "metadata": {},
   "outputs": [
    {
     "name": "stderr",
     "output_type": "stream",
     "text": [
      "Building prefix dict from /home/jiazhi/Workshop/common-voice-zh-tw/dict.txt.big ...\n",
      "Loading model from cache /tmp/jieba.u508758312a92fec15e548748b1e3d333.cache\n",
      "Loading model cost 0.862 seconds.\n",
      "Prefix dict has been built succesfully.\n"
     ]
    }
   ],
   "source": [
    "import os\n",
    "from os.path import join\n",
    "import pandas as pd\n",
    "\n",
    "import jieba\n",
    "jieba.set_dictionary('dict.txt.big')\n",
    "jieba.initialize()\n",
    "\n",
    "DATA_DIR = '/home/jiazhi/Dataset/common-voice_zh-TW_43h_2019-06-12'"
   ]
  },
  {
   "cell_type": "code",
   "execution_count": 2,
   "metadata": {},
   "outputs": [],
   "source": [
    "def kaldi_gender(gender):\n",
    "    ''' Alter CommonVoice gender into kaldi format. '''\n",
    "    if gender == 'male':\n",
    "        return 'm'\n",
    "    elif gender == 'female':\n",
    "        return 'f'\n",
    "    else:\n",
    "        return 'm'\n",
    "    \n",
    "def path2utt(path):\n",
    "    ''' Convert audio path into utterance id. '''\n",
    "    return path[:-4].split('_')[-1]\n",
    "\n",
    "def jieba_cut(sent):\n",
    "    ''' Chinese segmentation with punctuations removed. '''\n",
    "    def is_chinese(char):\n",
    "        return u'\\u4e00' <= char <= u'\\u9fff'\n",
    "    return [c for c in jieba.cut(sent) if is_chinese(c)]\n",
    "\n",
    "def contains_no_eng(text):\n",
    "    ''' Check if text contains no english. '''\n",
    "    for char in text:\n",
    "        if 'a' <= char <= 'z' or \\\n",
    "           'A' <= char <= 'Z' or \\\n",
    "           u'\\uff21' <= char <= u'\\uff3a' or \\\n",
    "           u'\\uff41' <= char <= u'\\uff5a':\n",
    "            return False\n",
    "    return True"
   ]
  },
  {
   "cell_type": "code",
   "execution_count": 3,
   "metadata": {},
   "outputs": [],
   "source": [
    "# Create directory structures\n",
    "os.mkdir('data')\n",
    "os.mkdir('data/train')\n",
    "os.mkdir('data/test')\n",
    "os.mkdir('data/local')\n",
    "os.mkdir('data/local/dict')"
   ]
  },
  {
   "cell_type": "code",
   "execution_count": 4,
   "metadata": {},
   "outputs": [],
   "source": [
    "# Read and merge information of train/test set\n",
    "train_tsv = join(DATA_DIR, 'train.tsv')\n",
    "test_tsv = join(DATA_DIR, 'test.tsv')\n",
    "train_df = pd.read_csv(train_tsv, sep='\\t')\n",
    "test_df = pd.read_csv(test_tsv, sep='\\t')\n",
    "\n",
    "# Exclude audios with english\n",
    "train_df = train_df[train_df.sentence.apply(contains_no_eng)]\n",
    "test_df = test_df[test_df.sentence.apply(contains_no_eng)]\n",
    "full_df = pd.concat([train_df, test_df])"
   ]
  },
  {
   "cell_type": "code",
   "execution_count": 5,
   "metadata": {},
   "outputs": [
    {
     "name": "stdout",
     "output_type": "stream",
     "text": [
      "train_df.shape: (1697, 8)\n",
      "test_df.shape:  (1535, 8)\n"
     ]
    },
    {
     "data": {
      "text/html": [
       "<div>\n",
       "<style scoped>\n",
       "    .dataframe tbody tr th:only-of-type {\n",
       "        vertical-align: middle;\n",
       "    }\n",
       "\n",
       "    .dataframe tbody tr th {\n",
       "        vertical-align: top;\n",
       "    }\n",
       "\n",
       "    .dataframe thead th {\n",
       "        text-align: right;\n",
       "    }\n",
       "</style>\n",
       "<table border=\"1\" class=\"dataframe\">\n",
       "  <thead>\n",
       "    <tr style=\"text-align: right;\">\n",
       "      <th></th>\n",
       "      <th>client_id</th>\n",
       "      <th>path</th>\n",
       "      <th>sentence</th>\n",
       "      <th>up_votes</th>\n",
       "      <th>down_votes</th>\n",
       "      <th>age</th>\n",
       "      <th>gender</th>\n",
       "      <th>accent</th>\n",
       "    </tr>\n",
       "  </thead>\n",
       "  <tbody>\n",
       "    <tr>\n",
       "      <th>0</th>\n",
       "      <td>729aa31a7cb19fbf96fb390f0e7e74dd408a2579ce811a...</td>\n",
       "      <td>common_voice_zh-TW_17377831.mp3</td>\n",
       "      <td>我們特別回鄉下</td>\n",
       "      <td>2</td>\n",
       "      <td>0</td>\n",
       "      <td>thirties</td>\n",
       "      <td>male</td>\n",
       "      <td>NaN</td>\n",
       "    </tr>\n",
       "    <tr>\n",
       "      <th>1</th>\n",
       "      <td>729aa31a7cb19fbf96fb390f0e7e74dd408a2579ce811a...</td>\n",
       "      <td>common_voice_zh-TW_17377841.mp3</td>\n",
       "      <td>是歷史上的第二次</td>\n",
       "      <td>2</td>\n",
       "      <td>0</td>\n",
       "      <td>thirties</td>\n",
       "      <td>male</td>\n",
       "      <td>NaN</td>\n",
       "    </tr>\n",
       "    <tr>\n",
       "      <th>2</th>\n",
       "      <td>729aa31a7cb19fbf96fb390f0e7e74dd408a2579ce811a...</td>\n",
       "      <td>common_voice_zh-TW_17377844.mp3</td>\n",
       "      <td>簡單來說</td>\n",
       "      <td>2</td>\n",
       "      <td>1</td>\n",
       "      <td>thirties</td>\n",
       "      <td>male</td>\n",
       "      <td>NaN</td>\n",
       "    </tr>\n",
       "    <tr>\n",
       "      <th>3</th>\n",
       "      <td>729aa31a7cb19fbf96fb390f0e7e74dd408a2579ce811a...</td>\n",
       "      <td>common_voice_zh-TW_17377846.mp3</td>\n",
       "      <td>在田裡也需幫忙</td>\n",
       "      <td>2</td>\n",
       "      <td>0</td>\n",
       "      <td>thirties</td>\n",
       "      <td>male</td>\n",
       "      <td>NaN</td>\n",
       "    </tr>\n",
       "    <tr>\n",
       "      <th>4</th>\n",
       "      <td>729aa31a7cb19fbf96fb390f0e7e74dd408a2579ce811a...</td>\n",
       "      <td>common_voice_zh-TW_17377848.mp3</td>\n",
       "      <td>婚後一年生了個女嬰</td>\n",
       "      <td>2</td>\n",
       "      <td>1</td>\n",
       "      <td>thirties</td>\n",
       "      <td>male</td>\n",
       "      <td>NaN</td>\n",
       "    </tr>\n",
       "  </tbody>\n",
       "</table>\n",
       "</div>"
      ],
      "text/plain": [
       "                                           client_id  \\\n",
       "0  729aa31a7cb19fbf96fb390f0e7e74dd408a2579ce811a...   \n",
       "1  729aa31a7cb19fbf96fb390f0e7e74dd408a2579ce811a...   \n",
       "2  729aa31a7cb19fbf96fb390f0e7e74dd408a2579ce811a...   \n",
       "3  729aa31a7cb19fbf96fb390f0e7e74dd408a2579ce811a...   \n",
       "4  729aa31a7cb19fbf96fb390f0e7e74dd408a2579ce811a...   \n",
       "\n",
       "                              path   sentence  up_votes  down_votes       age  \\\n",
       "0  common_voice_zh-TW_17377831.mp3    我們特別回鄉下         2           0  thirties   \n",
       "1  common_voice_zh-TW_17377841.mp3   是歷史上的第二次         2           0  thirties   \n",
       "2  common_voice_zh-TW_17377844.mp3       簡單來說         2           1  thirties   \n",
       "3  common_voice_zh-TW_17377846.mp3    在田裡也需幫忙         2           0  thirties   \n",
       "4  common_voice_zh-TW_17377848.mp3  婚後一年生了個女嬰         2           1  thirties   \n",
       "\n",
       "  gender accent  \n",
       "0   male    NaN  \n",
       "1   male    NaN  \n",
       "2   male    NaN  \n",
       "3   male    NaN  \n",
       "4   male    NaN  "
      ]
     },
     "execution_count": 5,
     "metadata": {},
     "output_type": "execute_result"
    }
   ],
   "source": [
    "print(f'train_df.shape: {train_df.shape}')\n",
    "print(f'test_df.shape:  {test_df.shape}')\n",
    "train_df.head()"
   ]
  },
  {
   "cell_type": "markdown",
   "metadata": {},
   "source": [
    "# Acoustic"
   ]
  },
  {
   "cell_type": "code",
   "execution_count": 6,
   "metadata": {},
   "outputs": [],
   "source": [
    "# Prepare gender and speaker id for all CommonVoice clients\n",
    "full_df.gender = full_df.gender.apply(kaldi_gender)\n",
    "client_spk = full_df[['client_id']].drop_duplicates()\n",
    "client_spk['spk_id'] = range(1, 1 + len(client_spk))\n",
    "full_df = full_df.merge(client_spk)\n",
    "\n",
    "# Prepare utterance id and text segmentation for all audios\n",
    "full_df['utt_id'] = full_df.path.apply(path2utt)\n",
    "full_df.sentence = full_df.sentence.apply(jieba_cut)\n",
    "\n",
    "# Drop useless columns\n",
    "drop_columns = ['client_id', 'up_votes', 'down_votes', 'age', 'accent']\n",
    "full_df.drop(columns=drop_columns, inplace=True)\n",
    "\n",
    "# Split processed dataset to train/test set\n",
    "train_df = full_df[:-len(test_df)]\n",
    "test_df = full_df[-len(test_df):]"
   ]
  },
  {
   "cell_type": "code",
   "execution_count": 7,
   "metadata": {},
   "outputs": [
    {
     "name": "stdout",
     "output_type": "stream",
     "text": [
      "train_df.shape: (1697, 5)\n",
      "test_df.shape:  (1535, 5)\n"
     ]
    },
    {
     "data": {
      "text/html": [
       "<div>\n",
       "<style scoped>\n",
       "    .dataframe tbody tr th:only-of-type {\n",
       "        vertical-align: middle;\n",
       "    }\n",
       "\n",
       "    .dataframe tbody tr th {\n",
       "        vertical-align: top;\n",
       "    }\n",
       "\n",
       "    .dataframe thead th {\n",
       "        text-align: right;\n",
       "    }\n",
       "</style>\n",
       "<table border=\"1\" class=\"dataframe\">\n",
       "  <thead>\n",
       "    <tr style=\"text-align: right;\">\n",
       "      <th></th>\n",
       "      <th>path</th>\n",
       "      <th>sentence</th>\n",
       "      <th>gender</th>\n",
       "      <th>spk_id</th>\n",
       "      <th>utt_id</th>\n",
       "    </tr>\n",
       "  </thead>\n",
       "  <tbody>\n",
       "    <tr>\n",
       "      <th>0</th>\n",
       "      <td>common_voice_zh-TW_17377831.mp3</td>\n",
       "      <td>[我們, 特別, 回鄉, 下]</td>\n",
       "      <td>m</td>\n",
       "      <td>1</td>\n",
       "      <td>17377831</td>\n",
       "    </tr>\n",
       "    <tr>\n",
       "      <th>1</th>\n",
       "      <td>common_voice_zh-TW_17377841.mp3</td>\n",
       "      <td>[是, 歷史, 上, 的, 第二次]</td>\n",
       "      <td>m</td>\n",
       "      <td>1</td>\n",
       "      <td>17377841</td>\n",
       "    </tr>\n",
       "    <tr>\n",
       "      <th>2</th>\n",
       "      <td>common_voice_zh-TW_17377844.mp3</td>\n",
       "      <td>[簡單, 來說]</td>\n",
       "      <td>m</td>\n",
       "      <td>1</td>\n",
       "      <td>17377844</td>\n",
       "    </tr>\n",
       "    <tr>\n",
       "      <th>3</th>\n",
       "      <td>common_voice_zh-TW_17377846.mp3</td>\n",
       "      <td>[在, 田裡, 也, 需, 幫忙]</td>\n",
       "      <td>m</td>\n",
       "      <td>1</td>\n",
       "      <td>17377846</td>\n",
       "    </tr>\n",
       "    <tr>\n",
       "      <th>4</th>\n",
       "      <td>common_voice_zh-TW_17377848.mp3</td>\n",
       "      <td>[婚後, 一年生, 了, 個, 女嬰]</td>\n",
       "      <td>m</td>\n",
       "      <td>1</td>\n",
       "      <td>17377848</td>\n",
       "    </tr>\n",
       "  </tbody>\n",
       "</table>\n",
       "</div>"
      ],
      "text/plain": [
       "                              path             sentence gender  spk_id  \\\n",
       "0  common_voice_zh-TW_17377831.mp3      [我們, 特別, 回鄉, 下]      m       1   \n",
       "1  common_voice_zh-TW_17377841.mp3   [是, 歷史, 上, 的, 第二次]      m       1   \n",
       "2  common_voice_zh-TW_17377844.mp3             [簡單, 來說]      m       1   \n",
       "3  common_voice_zh-TW_17377846.mp3    [在, 田裡, 也, 需, 幫忙]      m       1   \n",
       "4  common_voice_zh-TW_17377848.mp3  [婚後, 一年生, 了, 個, 女嬰]      m       1   \n",
       "\n",
       "     utt_id  \n",
       "0  17377831  \n",
       "1  17377841  \n",
       "2  17377844  \n",
       "3  17377846  \n",
       "4  17377848  "
      ]
     },
     "execution_count": 7,
     "metadata": {},
     "output_type": "execute_result"
    }
   ],
   "source": [
    "print(f'train_df.shape: {train_df.shape}')\n",
    "print(f'test_df.shape:  {test_df.shape}')\n",
    "train_df.head()"
   ]
  },
  {
   "cell_type": "markdown",
   "metadata": {},
   "source": [
    "### Write files for kaldi usage"
   ]
  },
  {
   "cell_type": "code",
   "execution_count": 8,
   "metadata": {},
   "outputs": [],
   "source": [
    "# Write acoustic data of train/test set\n",
    "for split, df in zip(['train', 'test'], [train_df, test_df]):\n",
    "    \n",
    "    # spk2gender\n",
    "    spk2gender = df[['spk_id', 'gender']].drop_duplicates()\n",
    "    with open(join('data', split, 'spk2gender'), 'w') as f:\n",
    "        for _, row in spk2gender.iterrows():\n",
    "            f.write(f'{row.spk_id} {row.gender}\\n')\n",
    "            \n",
    "    # wav.scp\n",
    "    with open(join('data', split, 'wav.scp'), 'w') as f:\n",
    "        for _, row in df.iterrows():\n",
    "            mp3_path = join(DATA_DIR, 'clips', row.path)\n",
    "            f.write(f'{row.utt_id} sox {mp3_path} -t wav - |\\n')\n",
    "    \n",
    "    # text\n",
    "    with open(join('data', split, 'text'), 'w') as f:\n",
    "        for _, row in df.iterrows():\n",
    "            text = ' '.join(row.sentence)\n",
    "            f.write(f'{row.utt_id} {text}\\n')\n",
    "            \n",
    "    # utt2spk\n",
    "    with open(join('data', split, 'utt2spk'), 'w') as f:\n",
    "        for _, row in df.iterrows():\n",
    "            f.write(f'{row.utt_id} {row.spk_id}\\n')"
   ]
  },
  {
   "cell_type": "markdown",
   "metadata": {},
   "source": [
    "# Language"
   ]
  },
  {
   "cell_type": "code",
   "execution_count": null,
   "metadata": {},
   "outputs": [],
   "source": []
  }
 ],
 "metadata": {
  "kernelspec": {
   "display_name": "Python 3",
   "language": "python",
   "name": "python3"
  },
  "language_info": {
   "codemirror_mode": {
    "name": "ipython",
    "version": 3
   },
   "file_extension": ".py",
   "mimetype": "text/x-python",
   "name": "python",
   "nbconvert_exporter": "python",
   "pygments_lexer": "ipython3",
   "version": "3.6.7"
  }
 },
 "nbformat": 4,
 "nbformat_minor": 2
}
